{
 "cells": [
  {
   "cell_type": "code",
   "execution_count": 1,
   "id": "c727affc-037b-4ae6-bc2b-9e3b61e283e0",
   "metadata": {},
   "outputs": [
    {
     "name": "stdout",
     "output_type": "stream",
     "text": [
      "Cloning into 'stable-diffusion-webui'...\n",
      "remote: Enumerating objects: 8656, done.\u001b[K\n",
      "remote: Total 8656 (delta 0), reused 0 (delta 0), pack-reused 8656\u001b[K\n",
      "Receiving objects: 100% (8656/8656), 22.60 MiB | 59.48 MiB/s, done.\n",
      "Resolving deltas: 100% (6075/6075), done.\n",
      "/home/studio-lab-user/sagemaker-studiolab-notebooks/stable-diffusion-webui\n"
     ]
    }
   ],
   "source": [
    "!git clone https://github.com/AUTOMATIC1111/stable-diffusion-webui\n",
    "%cd stable-diffusion-webui"
   ]
  },
  {
   "cell_type": "code",
   "execution_count": 2,
   "id": "0d344b00-8e08-4212-9552-02940ddbf8da",
   "metadata": {},
   "outputs": [
    {
     "data": {
      "application/vnd.jupyter.widget-view+json": {
       "model_id": "23778bb13a7242b4ac4ea4f85f8c40be",
       "version_major": 2,
       "version_minor": 0
      },
      "text/plain": [
       "VBox(children=(HTML(value='<center> <img\\nsrc=https://huggingface.co/front/assets/huggingface_logo-noborder.sv…"
      ]
     },
     "metadata": {},
     "output_type": "display_data"
    }
   ],
   "source": [
    "from huggingface_hub import notebook_login\n",
    "\n",
    "notebook_login()"
   ]
  },
  {
   "cell_type": "code",
   "execution_count": 3,
   "id": "1ef4d49e-4240-4723-a45b-b75b8f981552",
   "metadata": {},
   "outputs": [
    {
     "name": "stdout",
     "output_type": "stream",
     "text": [
      "✅ model.ckpt successfully downloaded\n"
     ]
    }
   ],
   "source": [
    "from IPython.display import clear_output\n",
    "\n",
    "from huggingface_hub import hf_hub_download\n",
    "downloaded_model_path = hf_hub_download(\n",
    " repo_id=\"CompVis/stable-diffusion-v-1-4-original\",\n",
    " filename=\"sd-v1-4.ckpt\",\n",
    " use_auth_token=True\n",
    ")\n",
    "\n",
    "# Move the sd-v1-4.ckpt to the root of this directory as \"model.ckpt\"\n",
    "actual_locations_of_model_blob = !readlink -f {downloaded_model_path}\n",
    "!mv {actual_locations_of_model_blob[-1]} model.ckpt\n",
    "clear_output()\n",
    "print(\"✅ model.ckpt successfully downloaded\")"
   ]
  },
  {
   "cell_type": "code",
   "execution_count": 4,
   "id": "df291a0d-2da6-4fe7-adb5-eb61554ba947",
   "metadata": {},
   "outputs": [
    {
     "name": "stdout",
     "output_type": "stream",
     "text": [
      "Python 3.9.13 | packaged by conda-forge | (main, May 27 2022, 16:58:50) \n",
      "[GCC 10.3.0]\n",
      "Commit hash: 737eb28faca8be2bb996ee0930ec77d1f7ebd939\n",
      "Cloning Stable Diffusion into repositories/stable-diffusion...\n",
      "Cloning Taming Transformers into repositories/taming-transformers...\n",
      "Cloning K-diffusion into repositories/k-diffusion...\n",
      "Cloning CodeFormer into repositories/CodeFormer...\n",
      "Cloning BLIP into repositories/BLIP...\n",
      "Installing requirements for Web UI\n",
      "Exiting because of --exit argument\n"
     ]
    }
   ],
   "source": [
    "!COMMANDLINE_ARGS=\"--exit\" REQS_FILE=\"requirements.txt\" python launch.py"
   ]
  },
  {
   "cell_type": "code",
   "execution_count": 5,
   "id": "d40be413-a588-4a3d-a738-0bc9abc8f1b3",
   "metadata": {},
   "outputs": [
    {
     "name": "stdout",
     "output_type": "stream",
     "text": [
      "[Errno 2] No such file or directory: 'stable-diffusion-webui'\n",
      "/home/studio-lab-user/sagemaker-studiolab-notebooks/stable-diffusion-webui\n",
      "Already up to date.\n"
     ]
    }
   ],
   "source": [
    "%cd stable-diffusion-webui\n",
    "!git pull"
   ]
  },
  {
   "cell_type": "code",
   "execution_count": 6,
   "id": "3d9aed70-1271-40f4-8e81-6fa2539b9bfb",
   "metadata": {},
   "outputs": [
    {
     "name": "stdout",
     "output_type": "stream",
     "text": [
      "Python 3.9.13 | packaged by conda-forge | (main, May 27 2022, 16:58:50) \n",
      "[GCC 10.3.0]\n",
      "Commit hash: 737eb28faca8be2bb996ee0930ec77d1f7ebd939\n",
      "Installing requirements for Web UI\n",
      "Launching Web UI with arguments: --share --gradio-debug --gradio-auth me:qwerty\n",
      "Traceback (most recent call last):\n",
      "  File \"/home/studio-lab-user/sagemaker-studiolab-notebooks/stable-diffusion-webui/launch.py\", line 206, in <module>\n",
      "    start_webui()\n",
      "  File \"/home/studio-lab-user/sagemaker-studiolab-notebooks/stable-diffusion-webui/launch.py\", line 200, in start_webui\n",
      "    import webui\n",
      "  File \"/home/studio-lab-user/sagemaker-studiolab-notebooks/stable-diffusion-webui/webui.py\", line 12, in <module>\n",
      "    from modules import devices, sd_samplers, upscaler\n",
      "  File \"/home/studio-lab-user/sagemaker-studiolab-notebooks/stable-diffusion-webui/modules/sd_samplers.py\", line 10, in <module>\n",
      "    from modules import prompt_parser, devices, processing, images\n",
      "  File \"/home/studio-lab-user/sagemaker-studiolab-notebooks/stable-diffusion-webui/modules/processing.py\", line 10, in <module>\n",
      "    import cv2\n",
      "  File \"/home/studio-lab-user/.conda/envs/default/lib/python3.9/site-packages/cv2/__init__.py\", line 181, in <module>\n",
      "    bootstrap()\n",
      "  File \"/home/studio-lab-user/.conda/envs/default/lib/python3.9/site-packages/cv2/__init__.py\", line 153, in bootstrap\n",
      "    native_module = importlib.import_module(\"cv2\")\n",
      "  File \"/home/studio-lab-user/.conda/envs/default/lib/python3.9/importlib/__init__.py\", line 127, in import_module\n",
      "    return _bootstrap._gcd_import(name[level:], package, level)\n",
      "ImportError: libgthread-2.0.so.0: cannot open shared object file: No such file or directory\n"
     ]
    }
   ],
   "source": [
    "!COMMANDLINE_ARGS=\"--share --gradio-debug --gradio-auth me:qwerty\" REQS_FILE=\"requirements.txt\" python launch.py"
   ]
  },
  {
   "cell_type": "code",
   "execution_count": null,
   "id": "3afbf2c6-567b-4208-a342-6795d37110b9",
   "metadata": {},
   "outputs": [],
   "source": []
  }
 ],
 "metadata": {
  "kernelspec": {
   "display_name": "default:Python",
   "language": "python",
   "name": "conda-env-default-py"
  },
  "language_info": {
   "codemirror_mode": {
    "name": "ipython",
    "version": 3
   },
   "file_extension": ".py",
   "mimetype": "text/x-python",
   "name": "python",
   "nbconvert_exporter": "python",
   "pygments_lexer": "ipython3",
   "version": "3.9.13"
  }
 },
 "nbformat": 4,
 "nbformat_minor": 5
}
